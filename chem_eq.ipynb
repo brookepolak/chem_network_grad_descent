{
 "cells": [
  {
   "cell_type": "code",
   "execution_count": 3,
   "metadata": {},
   "outputs": [],
   "source": [
    "from dengo.chemical_network import ChemicalNetwork, reaction_registry, cooling_registry, species_registry\n",
    "import dengo.primordial_rates, dengo.primordial_cooling\n",
    "from dengo.chemistry_constants import tiny, kboltz, mh\n",
    "import numpy as np\n",
    "import matplotlib.pyplot as plt\n",
    "import sympy"
   ]
  },
  {
   "cell_type": "code",
   "execution_count": 4,
   "metadata": {},
   "outputs": [],
   "source": [
    "dengo.primordial_rates.setup_primordial();"
   ]
  },
  {
   "cell_type": "code",
   "execution_count": 5,
   "metadata": {},
   "outputs": [],
   "source": [
    "primordial = ChemicalNetwork()"
   ]
  },
  {
   "cell_type": "code",
   "execution_count": 6,
   "metadata": {},
   "outputs": [
    {
     "name": "stdout",
     "output_type": "stream",
     "text": [
      "Adding reaction: k01 : 1*H_1 + 1*de => 1*H_2 + 2*de\n",
      "Adding reaction: k02 : 1*H_2 + 1*de => 1*H_1\n",
      "Adding reaction: k03 : 1*He_1 + 1*de => 1*He_2 + 2*de\n",
      "Adding reaction: k04 : 1*He_2 + 1*de => 1*He_1\n",
      "Adding reaction: k05 : 1*He_2 + 1*de => 1*He_3 + 2*de\n",
      "Adding reaction: k06 : 1*He_3 + 1*de => 1*He_2\n",
      "Adding reaction: k07 : 1*H_1 + 1*de => 1*H_m0\n",
      "Adding reaction: k08 : 1*H_m0 + 1*H_1 => 1*H2_1 + 1*de\n",
      "Adding reaction: k09 : 1*H_1 + 1*H_2 => 1*H2_2\n",
      "Adding reaction: k10 : 1*H2_2 + 1*H_1 => 1*H2_1 + 1*H_2\n",
      "Adding reaction: k11 : 1*H2_1 + 1*H_2 => 1*H2_2 + 1*H_1\n",
      "Adding reaction: k12 : 1*H2_1 + 1*de => 2*H_2 + 1*de\n",
      "Adding reaction: k13 : 1*H2_1 + 1*H_1 => 3*H_1\n",
      "Adding reaction: k14 : 1*H_m0 + 1*de => 1*H_1 + 2*de\n",
      "Adding reaction: k15 : 1*H_m0 + 1*H_1 => 2*H_1 + 1*de\n",
      "Adding reaction: k16 : 1*H_m0 + 1*H_2 => 2*H_1\n",
      "Adding reaction: k17 : 1*H_m0 + 1*H_2 => 1*H2_2 + 1*de\n",
      "Adding reaction: k18 : 1*H2_2 + 1*de => 2*H_1\n",
      "Adding reaction: k19 : 1*H2_2 + 1*H_m0 => 1*H_1 + 1*H2_1\n",
      "Adding reaction: k21 : 2*H_1 + 1*H2_1 => 2*H2_1\n",
      "Adding reaction: k22 : 2*H_1 + 1*H_1 => 1*H2_1 + 1*H_1\n",
      "Adding reaction: k23 : 1*H2_1 + 1*H2_1 => 2*H_1 + 1*H2_1\n"
     ]
    }
   ],
   "source": [
    "for i in range(23):\n",
    "    n = \"k%02i\" % (i+1)\n",
    "    if n in reaction_registry:\n",
    "        primordial.add_reaction(n)"
   ]
  },
  {
   "cell_type": "code",
   "execution_count": 7,
   "metadata": {},
   "outputs": [],
   "source": [
    "# Initializing primordial network\n",
    "NCELLS = 1\n",
    "density = 1e7\n",
    "temperature = np.logspace(2, 4, NCELLS)\n",
    "temperature[:] = 2e3\n",
    "X = 0.5\n",
    "\n",
    "primordial.init_temperature((1e0, 1e8))\n",
    "\n",
    "init_array = np.ones(NCELLS) * density\n",
    "init_values = dict()\n",
    "init_values['H_1']   = init_array * 0\n",
    "init_values['H_2']   = X * init_array\n",
    "init_values['H_m0']  = init_array * tiny\n",
    "init_values['He_1']  = init_array * tiny\n",
    "init_values['He_2']  = init_array * tiny\n",
    "init_values['He_3']  = init_array * tiny\n",
    "init_values['H2_1']  = init_array * tiny\n",
    "init_values['H2_2']  = init_array * tiny\n",
    "init_values['de']    = init_array * 0.0\n",
    "\n",
    "total_density = primordial.calculate_total_density(init_values)\n",
    "init_values[\"H_1\"] = init_array.copy() - total_density\n",
    "init_values = primordial.convert_to_mass_density(init_values)\n",
    "init_values['de'] = primordial.calculate_free_electrons(init_values)\n",
    "init_values['density'] = primordial.calculate_total_density(init_values)\n",
    "number_density = primordial.calculate_number_density(init_values)\n",
    "\n",
    "# set up initial temperatures values used to define ge\n",
    "init_values['T'] = temperature\n",
    "\n",
    "# calculate ge (very crudely, no H2 help here)\n",
    "gamma = 5.0/3.0\n",
    "init_values['ge'] = ((temperature * number_density * kboltz)\n",
    "                     / (init_values['density'] * mh * (gamma - 1)))"
   ]
  },
  {
   "cell_type": "code",
   "execution_count": 8,
   "metadata": {},
   "outputs": [
    {
     "data": {
      "text/plain": [
       "-k11[i]*H_2 - k12[i]*de - k13[i]*H_1 + k21[i]*H_1**2 - 2*k23[i]*H2_1"
      ]
     },
     "execution_count": 8,
     "metadata": {},
     "output_type": "execute_result"
    }
   ],
   "source": [
    "# this gives you the rhs function of that particular species\n",
    "# in this case, its H2_1, molecular H2\n",
    "# f_H2 is an sympy object!\n",
    "f_H2 = primordial.species_total('H2_1')\n",
    "\n",
    "# d f_H2 / d H_2 the jacobian component\n",
    "dfH2_dH2 = f_H2.diff('H2_1')\n",
    "dfH2_dH2"
   ]
  },
  {
   "cell_type": "code",
   "execution_count": 9,
   "metadata": {},
   "outputs": [],
   "source": [
    "rxn_rates = sorted(primordial.reactions.keys())\n",
    "species = sorted(primordial.species_list())"
   ]
  },
  {
   "cell_type": "code",
   "execution_count": 10,
   "metadata": {},
   "outputs": [
    {
     "data": {
      "text/plain": [
       "array([  0.00000000e+00,   0.00000000e+00,   0.00000000e+00, ...,\n",
       "         9.17839771e-09,   9.10254611e-09,   9.02719165e-09])"
      ]
     },
     "execution_count": 10,
     "metadata": {},
     "output_type": "execute_result"
    }
   ],
   "source": [
    "# The following gives the array of k01 rates at the temperatures\n",
    "k01 = primordial.reactions['k01']\n",
    "k01.coeff_fn(primordial)"
   ]
  },
  {
   "cell_type": "code",
   "execution_count": 12,
   "metadata": {},
   "outputs": [],
   "source": [
    "def get_jac_component(species1, species2):\n",
    "    f_species1 = primordial.species_total(species1)\n",
    "    df1_f2 = f_species1.diff(species2)\n",
    "    return df1_f2"
   ]
  },
  {
   "cell_type": "code",
   "execution_count": 13,
   "metadata": {},
   "outputs": [
    {
     "data": {
      "text/plain": [
       "['H2_1',\n",
       " 'H2_2',\n",
       " 'H_1',\n",
       " 'H_2',\n",
       " 'H_m0',\n",
       " 'He_1',\n",
       " 'He_2',\n",
       " 'He_3',\n",
       " 'de',\n",
       " 'ge',\n",
       " 'k01',\n",
       " 'k02',\n",
       " 'k03',\n",
       " 'k04',\n",
       " 'k05',\n",
       " 'k06',\n",
       " 'k07',\n",
       " 'k08',\n",
       " 'k09',\n",
       " 'k10',\n",
       " 'k11',\n",
       " 'k12',\n",
       " 'k13',\n",
       " 'k14',\n",
       " 'k15',\n",
       " 'k16',\n",
       " 'k17',\n",
       " 'k18',\n",
       " 'k19',\n",
       " 'k21',\n",
       " 'k22',\n",
       " 'k23',\n",
       " 'i']"
      ]
     },
     "execution_count": 13,
     "metadata": {},
     "output_type": "execute_result"
    }
   ],
   "source": [
    "# These are the arguments to the functions of the jacobian that can compute the numerical\n",
    "# values of each jacobian component\n",
    "species+rxn_rates+[\"i\"]"
   ]
  },
  {
   "cell_type": "code",
   "execution_count": 22,
   "metadata": {},
   "outputs": [],
   "source": [
    "# rxn_jac is the matrix of functions for the jacobian terms\n",
    "# species_rates_list is a list of species values and list of rxn_rate arrays\n",
    "# temp index is the index for the rxn_rate arrays corresponding to a specific temperature\n",
    "def compute_jacobian(rxn_jac,species_rates_list,temp_index):\n",
    "    jac = np.zeros((len(rxn_jac),len(rxn_jac)),dtype=float)\n",
    "    for j in range(len(jac)):\n",
    "        for k in range(len(jac)):\n",
    "            jac[j][k] = rxn_jac[j][k](*species_rates_list,i=temp_index)\n",
    "    return jac"
   ]
  },
  {
   "cell_type": "code",
   "execution_count": 27,
   "metadata": {},
   "outputs": [],
   "source": [
    "def grad_descent(network, init_values, temp_indices, epsilon):\n",
    "    # compute jacobian\n",
    "    rxn_rates = sorted(network.reactions.keys())\n",
    "    species = sorted(network.species_list())\n",
    "    f_arguments = species+rxn_rates+['i']\n",
    "    rxn_jac = np.zeros((len(species),len(species)),dtype=object)\n",
    "    for j in range(len(species)):\n",
    "        for k in range(len(species)):\n",
    "            jac_fn = get_jac_component(species[j],species[k])\n",
    "            rxn_jac[j][k] = sympy.lambdify(f_arguments,jac_fn,\"numpy\")\n",
    "\n",
    "    species_values = []\n",
    "    for s in species:\n",
    "        species_values.append(init_values[s])\n",
    "    rate_arrays = []\n",
    "    for k in range(len(rxn_rates)):\n",
    "        rate = primordial.reactions[rxn_rates[k]]\n",
    "        rate_arrays.append(rate.coeff_fn(primordial))\n",
    "    \n",
    "    jac_argument = species_values+rate_arrays\n",
    "    curr_jac = compute_jacobian(rxn_jac,jac_argument,temp_indices)\n",
    "\n",
    "    sp_diff = epsilon + 1\n",
    "    curr_sp = np.array(species_values)[:,0]\n",
    "    \n",
    "    learn_rate = .1\n",
    "    \n",
    "    #start descent here, updating species values, minimizing sum(jacobian)\n",
    "    while(learn_rate < 1):\n",
    "        \n",
    "        #GD update step\n",
    "        gradient = np.sum(curr_jac, axis=1)\n",
    "        curr_sp = curr_sp - learn_rate*gradient\n",
    "        \n",
    "        #calculating new jacobian\n",
    "        jac_argument = list(curr_sp)+rate_arrays\n",
    "        curr_jac = compute_jacobian(rxn_jac,jac_argument,temp_indices)\n",
    "        new_gradient = np.sum(curr_jac, axis=1)\n",
    "        \n",
    "        #calculating average error in s and s+1 jacobian species sums\n",
    "        err_diff = np.mean(gradient-new_gradient)\n",
    "        \n",
    "        #updating learning rate using bold driver technique\n",
    "        if(err_diff < 0):\n",
    "            learn_rate *= 1.05\n",
    "        elif(err_diff > 0):\n",
    "            learn_rate *= .50\n",
    "        else:\n",
    "            break\n",
    "    \n",
    "    return(dict(zip(species,curr_sp)))"
   ]
  },
  {
   "cell_type": "code",
   "execution_count": 28,
   "metadata": {},
   "outputs": [
    {
     "data": {
      "text/plain": [
       "{'H2_1': array([  2.00000000e-23]),\n",
       " 'H2_2': array([  2.00000000e-23]),\n",
       " 'H_1': array([ 5039700.]),\n",
       " 'H_2': array([ 5039700.]),\n",
       " 'H_m0': array([  1.00794000e-23]),\n",
       " 'He_1': array([  4.00260200e-23]),\n",
       " 'He_2': array([  4.00260200e-23]),\n",
       " 'He_3': array([  4.00260200e-23]),\n",
       " 'T': array([ 2000.]),\n",
       " 'de': array([ 5000000.]),\n",
       " 'density': array([ 10079400.]),\n",
       " 'ge': array([  2.45951338e+11])}"
      ]
     },
     "execution_count": 28,
     "metadata": {},
     "output_type": "execute_result"
    }
   ],
   "source": [
    "init_values"
   ]
  },
  {
   "cell_type": "code",
   "execution_count": 31,
   "metadata": {},
   "outputs": [],
   "source": [
    "sp_values = init_values\n",
    "temp_indices = 500\n",
    "epsilon = .1"
   ]
  },
  {
   "cell_type": "code",
   "execution_count": 32,
   "metadata": {},
   "outputs": [
    {
     "name": "stdout",
     "output_type": "stream",
     "text": [
      "('average updated species difference: ', 1.1)\n",
      "('average updated species difference: ', 1.1)\n",
      "('average updated species difference: ', 1.1)\n",
      "('average updated species difference: ', 1.1)\n",
      "('average updated species difference: ', 1.1)\n",
      "('average updated species difference: ', 1.1)\n",
      "('average updated species difference: ', 1.1)\n",
      "('average updated species difference: ', 1.1)\n",
      "('average updated species difference: ', 1.1)\n",
      "('average updated species difference: ', 1.1)\n",
      "('average updated species difference: ', 1.1)\n",
      "('average updated species difference: ', 1.1)\n",
      "('average updated species difference: ', 1.1)\n",
      "('average updated species difference: ', 1.1)\n",
      "('average updated species difference: ', 1.1)\n",
      "('average updated species difference: ', 1.1)\n",
      "('average updated species difference: ', 1.1)\n",
      "('average updated species difference: ', 1.1)\n",
      "('average updated species difference: ', 1.1)\n",
      "('average updated species difference: ', 1.1)\n",
      "('average updated species difference: ', 1.1)\n",
      "('average updated species difference: ', 1.1)\n",
      "('average updated species difference: ', 1.1)\n",
      "('average updated species difference: ', 1.1)\n",
      "('average updated species difference: ', 1.1)\n",
      "('average updated species difference: ', 1.1)\n",
      "('average updated species difference: ', 1.1)\n",
      "('average updated species difference: ', 1.1)\n",
      "('average updated species difference: ', 1.1)\n",
      "('average updated species difference: ', 1.1)\n",
      "('average updated species difference: ', 1.1)\n",
      "('average updated species difference: ', 1.1)\n",
      "('average updated species difference: ', 1.1)\n",
      "('average updated species difference: ', 1.1)\n",
      "('average updated species difference: ', 1.1)\n",
      "('average updated species difference: ', 1.1)\n",
      "('average updated species difference: ', 1.1)\n",
      "('average updated species difference: ', 1.1)\n",
      "('average updated species difference: ', 1.1)\n",
      "('average updated species difference: ', 1.1)\n",
      "('average updated species difference: ', 1.1)\n",
      "('average updated species difference: ', 1.1)\n",
      "('average updated species difference: ', 1.1)\n",
      "('average updated species difference: ', 1.1)\n",
      "('average updated species difference: ', 1.1)\n",
      "('average updated species difference: ', 1.1)\n",
      "('average updated species difference: ', 1.1)\n",
      "('average updated species difference: ', 1.1)\n"
     ]
    },
    {
     "data": {
      "text/plain": [
       "{'H2_1': -0.2241674367474755,\n",
       " 'H2_2': 0.16300731227797402,\n",
       " 'H_1': 5039697.8137380444,\n",
       " 'H_2': 5039700.7054573549,\n",
       " 'H_m0': 1.6031248485742393,\n",
       " 'He_1': 4.0026020002032014e-23,\n",
       " 'He_2': -0.00022272709841250873,\n",
       " 'He_3': 0.00022272709841250873,\n",
       " 'de': 4999999.2655658722,\n",
       " 'ge': 245951337993.10117}"
      ]
     },
     "execution_count": 32,
     "metadata": {},
     "output_type": "execute_result"
    }
   ],
   "source": [
    "grad_descent(primordial, sp_values, temp_indices, epsilon)"
   ]
  },
  {
   "cell_type": "code",
   "execution_count": null,
   "metadata": {},
   "outputs": [],
   "source": []
  }
 ],
 "metadata": {
  "kernelspec": {
   "display_name": "Python 2",
   "language": "python",
   "name": "python2"
  },
  "language_info": {
   "codemirror_mode": {
    "name": "ipython",
    "version": 2
   },
   "file_extension": ".py",
   "mimetype": "text/x-python",
   "name": "python",
   "nbconvert_exporter": "python",
   "pygments_lexer": "ipython2",
   "version": "2.7.13"
  }
 },
 "nbformat": 4,
 "nbformat_minor": 2
}
