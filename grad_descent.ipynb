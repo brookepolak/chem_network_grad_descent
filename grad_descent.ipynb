{
 "cells": [
  {
   "cell_type": "code",
   "execution_count": 5,
   "metadata": {},
   "outputs": [],
   "source": [
    "from dengo.chemical_network import ChemicalNetwork, reaction_registry, cooling_registry, species_registry\n",
    "import dengo.primordial_rates, dengo.primordial_cooling\n",
    "from dengo.chemistry_constants import tiny, kboltz, mh\n",
    "import numpy as np\n",
    "import matplotlib.pyplot as plt\n",
    "import sympy"
   ]
  },
  {
   "cell_type": "code",
   "execution_count": 6,
   "metadata": {},
   "outputs": [],
   "source": [
    "%matplotlib inline\n",
    "import time\n",
    "import pylab as pl\n",
    "from IPython import display"
   ]
  },
  {
   "cell_type": "code",
   "execution_count": 7,
   "metadata": {},
   "outputs": [],
   "source": [
    "from matplotlib.backends.backend_pdf import PdfPages"
   ]
  },
  {
   "cell_type": "code",
   "execution_count": 8,
   "metadata": {},
   "outputs": [],
   "source": [
    "dengo.primordial_rates.setup_primordial();"
   ]
  },
  {
   "cell_type": "code",
   "execution_count": 9,
   "metadata": {},
   "outputs": [],
   "source": [
    "primordial = ChemicalNetwork()"
   ]
  },
  {
   "cell_type": "code",
   "execution_count": 10,
   "metadata": {},
   "outputs": [
    {
     "name": "stdout",
     "output_type": "stream",
     "text": [
      "Adding reaction: k01 : 1*H_1 + 1*de => 1*H_2 + 2*de\n",
      "Adding reaction: k02 : 1*H_2 + 1*de => 1*H_1\n",
      "Adding reaction: k03 : 1*He_1 + 1*de => 1*He_2 + 2*de\n",
      "Adding reaction: k04 : 1*He_2 + 1*de => 1*He_1\n",
      "Adding reaction: k05 : 1*He_2 + 1*de => 1*He_3 + 2*de\n",
      "Adding reaction: k06 : 1*He_3 + 1*de => 1*He_2\n",
      "Adding reaction: k07 : 1*H_1 + 1*de => 1*H_m0\n",
      "Adding reaction: k08 : 1*H_m0 + 1*H_1 => 1*H2_1 + 1*de\n",
      "Adding reaction: k09 : 1*H_1 + 1*H_2 => 1*H2_2\n",
      "Adding reaction: k10 : 1*H2_2 + 1*H_1 => 1*H2_1 + 1*H_2\n",
      "Adding reaction: k11 : 1*H2_1 + 1*H_2 => 1*H2_2 + 1*H_1\n",
      "Adding reaction: k12 : 1*H2_1 + 1*de => 2*H_2 + 1*de\n",
      "Adding reaction: k13 : 1*H2_1 + 1*H_1 => 3*H_1\n",
      "Adding reaction: k14 : 1*H_m0 + 1*de => 1*H_1 + 2*de\n",
      "Adding reaction: k15 : 1*H_m0 + 1*H_1 => 2*H_1 + 1*de\n",
      "Adding reaction: k16 : 1*H_m0 + 1*H_2 => 2*H_1\n",
      "Adding reaction: k17 : 1*H_m0 + 1*H_2 => 1*H2_2 + 1*de\n",
      "Adding reaction: k18 : 1*H2_2 + 1*de => 2*H_1\n",
      "Adding reaction: k19 : 1*H2_2 + 1*H_m0 => 1*H_1 + 1*H2_1\n",
      "Adding reaction: k21 : 2*H_1 + 1*H2_1 => 2*H2_1\n",
      "Adding reaction: k22 : 2*H_1 + 1*H_1 => 1*H2_1 + 1*H_1\n",
      "Adding reaction: k23 : 1*H2_1 + 1*H2_1 => 2*H_1 + 1*H2_1\n"
     ]
    }
   ],
   "source": [
    "for i in range(23):\n",
    "    n = \"k%02i\" % (i+1)\n",
    "    if n in reaction_registry:\n",
    "        primordial.add_reaction(n)"
   ]
  },
  {
   "cell_type": "code",
   "execution_count": 11,
   "metadata": {},
   "outputs": [],
   "source": [
    "# Initializing primordial network\n",
    "NCELLS = 1\n",
    "density = 1e7\n",
    "temperature = np.logspace(2, 4, NCELLS)\n",
    "temperature[:] = 2e3\n",
    "X = 0.5\n",
    "\n",
    "primordial.init_temperature((1e0, 1e8))\n",
    "\n",
    "init_array = np.ones(NCELLS) * density\n",
    "init_values = dict()\n",
    "init_values['H_1']   = init_array * 0\n",
    "init_values['H_2']   = X * init_array\n",
    "init_values['H_m0']  = init_array * tiny\n",
    "init_values['He_1']  = init_array * tiny\n",
    "init_values['He_2']  = init_array * tiny\n",
    "init_values['He_3']  = init_array * tiny\n",
    "init_values['H2_1']  = init_array * tiny\n",
    "init_values['H2_2']  = init_array * tiny\n",
    "init_values['de']    = init_array * 0.0\n",
    "\n",
    "total_density = primordial.calculate_total_density(init_values)\n",
    "init_values[\"H_1\"] = init_array.copy() - total_density\n",
    "init_values = primordial.convert_to_mass_density(init_values)\n",
    "init_values['de'] = primordial.calculate_free_electrons(init_values)\n",
    "init_values['density'] = primordial.calculate_total_density(init_values)\n",
    "number_density = primordial.calculate_number_density(init_values)\n",
    "\n",
    "# set up initial temperatures values used to define ge\n",
    "init_values['T'] = temperature\n",
    "\n",
    "# calculate ge (very crudely, no H2 help here)\n",
    "gamma = 5.0/3.0\n",
    "init_values['ge'] = ((temperature * number_density * kboltz)\n",
    "                     / (init_values['density'] * mh * (gamma - 1)))"
   ]
  },
  {
   "cell_type": "code",
   "execution_count": 12,
   "metadata": {},
   "outputs": [],
   "source": [
    "def get_jac_component(species1, species2):\n",
    "    f_species1 = primordial.species_total(species1)\n",
    "    df1_f2 = f_species1.diff(species2)\n",
    "    return df1_f2\n",
    "\n",
    "#building jacobian with functions as values\n",
    "def build_jacobian(network):\n",
    "    rxn_rates = sorted(network.reactions.keys())\n",
    "    species = sorted(network.species_list())\n",
    "    f_arguments = species+rxn_rates+['i']\n",
    "    rxn_jac = np.zeros((len(species),len(species)),dtype=object)\n",
    "    for j in range(len(species)):\n",
    "        for k in range(len(species)):\n",
    "            jac_fn = get_jac_component(species[j],species[k])\n",
    "            rxn_jac[j][k] = sympy.lambdify(f_arguments,jac_fn,\"numpy\")\n",
    "    \n",
    "    return rxn_jac\n",
    "\n",
    "# rxn_jac is the matrix of functions for the jacobian terms\n",
    "# species_rates_list is a list of species values and list of rxn_rate arrays\n",
    "# temp index is the index for the rxn_rate arrays corresponding to a specific temperature\n",
    "def compute_jacobian(rxn_jac,species_rates_list,temp_index):\n",
    "    jac = np.zeros((len(rxn_jac),len(rxn_jac)),dtype=float)\n",
    "    for j in range(len(jac)):\n",
    "        for k in range(len(jac)):\n",
    "            jac[j][k] = rxn_jac[j][k](*species_rates_list,i=temp_index)\n",
    "    return jac"
   ]
  },
  {
   "cell_type": "code",
   "execution_count": 13,
   "metadata": {},
   "outputs": [],
   "source": [
    "# Species function computes the rhs of each chemical species\n",
    "def build_species_function(network):\n",
    "    rxn_rates = sorted(network.reactions.keys())\n",
    "    species = sorted(network.species_list())\n",
    "    f_arguments = species+rxn_rates+['i']\n",
    "    species_fn = np.zeros(len(species),dtype=object)\n",
    "    for s in range(len(species)):\n",
    "        sp_fn = network.species_total(species[s])\n",
    "        species_fn[s] = sympy.lambdify(f_arguments,sp_fn,\"numpy\")\n",
    "    \n",
    "    return species_fn\n",
    "\n",
    "def compute_species_function(species_fn,species_rates_list,temp_index):\n",
    "    sp_fn = np.zeros(len(species_fn),dtype=float)\n",
    "    for j in range(len(species_fn)):\n",
    "        sp_fn[j] = species_fn[j](*species_rates_list,i=temp_index)\n",
    "    return sp_fn"
   ]
  },
  {
   "cell_type": "code",
   "execution_count": 14,
   "metadata": {},
   "outputs": [],
   "source": [
    "# The objective function is what we're trying to minimize\n",
    "def objective_function(species_fn,species_rates_list,temp_index):\n",
    "    obj_fn = np.zeros(len(species_fn),dtype=float)\n",
    "    for j in range(len(species_fn)):\n",
    "        obj_fn[j] = 0.5*np.dot(np.transpose(species_fn[j](*species_rates_list,i=temp_index)),species_fn[j](*species_rates_list,i=temp_index))\n",
    "    return obj_fn"
   ]
  },
  {
   "cell_type": "code",
   "execution_count": 108,
   "metadata": {},
   "outputs": [],
   "source": [
    "def grad_descent(network, init_values, temp_indices, epsilon, max_step):\n",
    "    # build jacobian and species function\n",
    "    rxn_jac = build_jacobian(network)\n",
    "    species_fn = build_species_function(network)\n",
    "    \n",
    "    rxn_rates = sorted(network.reactions.keys())\n",
    "    species = sorted(network.species_list())\n",
    "    \n",
    "    plot_dict = {}\n",
    "    species_values = []\n",
    "    for s in species:\n",
    "        species_values.append(init_values[s][0])\n",
    "        plot_dict[s] = [init_values[s][0]]\n",
    "    rate_arrays = []\n",
    "    for k in range(len(rxn_rates)):\n",
    "        rate = network.reactions[rxn_rates[k]]\n",
    "        rate_arrays.append(rate.coeff_fn(network))\n",
    "    \n",
    "    # Parameterize species with logs, to keep densities positive\n",
    "    curr_sp = np.log(species_values)\n",
    "    \n",
    "    #learning rate, will make more sophisticated later using a line search algorithm\n",
    "    gamma = 1.0e7\n",
    "    \n",
    "    step = 0\n",
    "    \n",
    "    obj_fn_history = []\n",
    "    \n",
    "    t_start = time.time()\n",
    "    while(True): #fix this\n",
    "        step += 1\n",
    "        fn_argument = list(curr_sp)+rate_arrays\n",
    "        curr_jac = compute_jacobian(rxn_jac,fn_argument,temp_indices)\n",
    "        curr_sp_fn = compute_species_function(species_fn,fn_argument,temp_indices)\n",
    "        curr_obj = objective_function(species_fn,fn_argument,temp_indices)\n",
    "        curr_sp = np.array(curr_sp)\n",
    "        grad_desc_step = np.dot(np.transpose(curr_jac),curr_sp_fn)\n",
    "        # update species\n",
    "        curr_sp = curr_sp - gamma*grad_desc_step\n",
    "        \n",
    "        for s in range(len(species)):\n",
    "            plot_dict[species[s]].append(np.exp(curr_sp[s]))\n",
    "        obj_fn_history.append(np.mean(curr_obj))\n",
    "        \n",
    "        fn_argument = list(curr_sp)+rate_arrays\n",
    "        update_obj = objective_function(species_fn,fn_argument,temp_indices)\n",
    "        diff = np.mean(np.abs(update_obj-curr_obj))\n",
    "        \n",
    "        if(diff<epsilon):\n",
    "            print(\"Objective function update difference less than epsilon. Difference=\",diff)\n",
    "            print(\"Number of steps\",step)\n",
    "            break\n",
    "        elif(step>max_step):\n",
    "            print(\"Max number of steps exceeded.\")\n",
    "            break\n",
    "    total_time = time.time() - t_start\n",
    "    print(\"Average time per gradient descent step:{}\".format(total_time))\n",
    "    return(dict(zip(species,np.exp(curr_sp))),plot_dict,obj_fn_history,gamma)"
   ]
  },
  {
   "cell_type": "code",
   "execution_count": 109,
   "metadata": {},
   "outputs": [],
   "source": [
    "temp_indices = np.arange(0,len(primordial.T),len(primordial.T)/9)"
   ]
  },
  {
   "cell_type": "code",
   "execution_count": 114,
   "metadata": {},
   "outputs": [
    {
     "data": {
      "text/plain": [
       "{'H2_1': array([  2.00000000e-23]),\n",
       " 'H2_2': array([  2.00000000e-23]),\n",
       " 'H_1': array([ 5039700.]),\n",
       " 'H_2': array([ 5039700.]),\n",
       " 'H_m0': array([  1.00794000e-23]),\n",
       " 'He_1': array([  4.00260200e-23]),\n",
       " 'He_2': array([  4.00260200e-23]),\n",
       " 'He_3': array([  4.00260200e-23]),\n",
       " 'T': array([ 2000.]),\n",
       " 'de': array([ 5000000.]),\n",
       " 'density': array([ 10079400.]),\n",
       " 'ge': array([  2.45951338e+11])}"
      ]
     },
     "execution_count": 114,
     "metadata": {},
     "output_type": "execute_result"
    }
   ],
   "source": [
    "# inputs to gradient descent function\n",
    "# epsilon: threshhold difference between updated and old objective function, \n",
    "#    returns when difference less than epsilon\n",
    "# temp_indices: index of temperature value species will be computed at, will fix to be a list \n",
    "#    of temperatures\n",
    "# max_step: cuts off descent after this amount of steps\n",
    "sp_values = init_values\n",
    "temp = temp_indices[9]\n",
    "epsilon = 1e-20\n",
    "max_step = 100000\n",
    "sp_values"
   ]
  },
  {
   "cell_type": "code",
   "execution_count": 115,
   "metadata": {},
   "outputs": [
    {
     "name": "stdout",
     "output_type": "stream",
     "text": [
      "Max number of steps exceeded.\n",
      "Average time per gradient descent step:78.8092200756\n"
     ]
    }
   ],
   "source": [
    "eq_species,plot_dict,obj_hist,gamma = grad_descent(primordial,sp_values,temp,epsilon,max_step)"
   ]
  },
  {
   "cell_type": "code",
   "execution_count": 116,
   "metadata": {},
   "outputs": [
    {
     "data": {
      "text/plain": [
       "<matplotlib.text.Text at 0x112a623d0>"
      ]
     },
     "execution_count": 116,
     "metadata": {},
     "output_type": "execute_result"
    },
    {
     "data": {
      "image/png": "[encoded data removed]",
      "text/plain": [
       "<matplotlib.figure.Figure at 0x112ede310>"
      ]
     },
     "metadata": {},
     "output_type": "display_data"
    }
   ],
   "source": [
    "o_x = np.arange(0,len(obj_hist))\n",
    "plt.loglog(o_x,obj_hist)\n",
    "plt.title(\"Objective Function\")\n",
    "plt.xlabel(\"step\")\n",
    "plt.ylabel(\"O(x)\")"
   ]
  },
  {
   "cell_type": "code",
   "execution_count": 117,
   "metadata": {},
   "outputs": [
    {
     "data": {
      "image/png": "[encoded data removed]",
      "text/plain": [
       "<matplotlib.figure.Figure at 0x11a5c1c50>"
      ]
     },
     "metadata": {},
     "output_type": "display_data"
    }
   ],
   "source": [
    "plot_keys = plot_dict.keys()\n",
    "xs = np.arange(0,len(plot_dict[\"de\"]))\n",
    "for k in plot_keys:\n",
    "    plt.loglog(xs,plot_dict[k],label=k)\n",
    "plt.legend()\n",
    "plt.xlabel(\"step\")\n",
    "plt.ylabel(\"number density\")\n",
    "plt.title(\"Initial Temperature: {:3} [K]\\n\".format(primordial.T[temp])+r'$\\gamma=$'+str(gamma))\n",
    "plt.savefig(\"temp{}\".format(temp),dpi=500)"
   ]
  },
  {
   "cell_type": "code",
   "execution_count": null,
   "metadata": {},
   "outputs": [],
   "source": [
    "# temp_indices = np.arange(0,len(primordial.T),len(primordial.T)/9)\n",
    "# pp = PdfPages('GDruns.pdf')\n",
    "# for temp in temp_indices:\n",
    "#     eq_species,plot_dict,obj_hist = grad_descent(primordial,sp_values,temp,epsilon,max_step)\n",
    "#     plot_keys = plot_dict.keys()\n",
    "#     xs = np.arange(0,len(plot_dict[\"de\"]))\n",
    "#     for k in plot_keys:\n",
    "#         plt.loglog(xs,plot_dict[k],label=k)\n",
    "#     plt.legend()\n",
    "#     plt.xlabel(\"step\")\n",
    "#     plt.ylabel(\"number density\")\n",
    "#     plt.title(\"Initial Temperature: {} [K]\".format(primordial.T[temp_indices]))\n",
    "#     pp.savefig()\n",
    "#     plt.close()\n",
    "# pp.close"
   ]
  }
 ],
 "metadata": {
  "kernelspec": {
   "display_name": "Python 2",
   "language": "python",
   "name": "python2"
  },
  "language_info": {
   "codemirror_mode": {
    "name": "ipython",
    "version": 2
   },
   "file_extension": ".py",
   "mimetype": "text/x-python",
   "name": "python",
   "nbconvert_exporter": "python",
   "pygments_lexer": "ipython2",
   "version": "2.7.13"
  }
 },
 "nbformat": 4,
 "nbformat_minor": 2
}
