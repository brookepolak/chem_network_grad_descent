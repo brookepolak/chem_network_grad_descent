{
 "cells": [
  {
   "cell_type": "code",
   "execution_count": 50,
   "metadata": {},
   "outputs": [],
   "source": [
    "from dengo.chemical_network import ChemicalNetwork, reaction_registry, cooling_registry, species_registry\n",
    "import dengo.primordial_rates, dengo.primordial_cooling\n",
    "from dengo.chemistry_constants import tiny, kboltz, mh\n",
    "import numpy as np\n",
    "import matplotlib.pyplot as plt\n",
    "import sympy\n",
    "import matplotlib"
   ]
  },
  {
   "cell_type": "code",
   "execution_count": 51,
   "metadata": {},
   "outputs": [],
   "source": [
    "dengo.primordial_rates.setup_primordial();"
   ]
  },
  {
   "cell_type": "code",
   "execution_count": 52,
   "metadata": {},
   "outputs": [],
   "source": [
    "primordial = ChemicalNetwork()"
   ]
  },
  {
   "cell_type": "code",
   "execution_count": 53,
   "metadata": {},
   "outputs": [],
   "source": [
    "for i in range(23):\n",
    "    n = \"k%02i\" % (i+1)\n",
    "    if n in reaction_registry:\n",
    "        primordial.add_reaction(n)"
   ]
  },
  {
   "cell_type": "code",
   "execution_count": 54,
   "metadata": {},
   "outputs": [],
   "source": [
    "# Initializing primordial network\n",
    "NCELLS = 1\n",
    "density = 1e7\n",
    "temperature = np.logspace(2, 4, NCELLS)\n",
    "temperature[:] = 2e3\n",
    "X = 0.5\n",
    "\n",
    "primordial.init_temperature((1e0, 1e8))\n",
    "\n",
    "init_array = np.ones(NCELLS) * density\n",
    "init_values = dict()\n",
    "init_values['H_1']   = init_array * 0\n",
    "init_values['H_2']   = X * init_array\n",
    "init_values['H_m0']  = init_array * tiny\n",
    "init_values['He_1']  = init_array * tiny\n",
    "init_values['He_2']  = init_array * tiny\n",
    "init_values['He_3']  = init_array * tiny\n",
    "init_values['H2_1']  = init_array * tiny\n",
    "init_values['H2_2']  = init_array * tiny\n",
    "init_values['de']    = init_array * 0.0\n",
    "\n",
    "total_density = primordial.calculate_total_density(init_values)\n",
    "init_values[\"H_1\"] = init_array.copy() - total_density\n",
    "init_values = primordial.convert_to_mass_density(init_values)\n",
    "init_values['de'] = primordial.calculate_free_electrons(init_values)\n",
    "init_values['density'] = primordial.calculate_total_density(init_values)\n",
    "number_density = primordial.calculate_number_density(init_values)\n",
    "\n",
    "# set up initial temperatures values used to define ge\n",
    "init_values['T'] = temperature\n",
    "\n",
    "# calculate ge (very crudely, no H2 help here)\n",
    "gamma = 5.0/3.0\n",
    "init_values['ge'] = ((temperature * number_density * kboltz)\n",
    "                     / (init_values['density'] * mh * (gamma - 1)))"
   ]
  },
  {
   "cell_type": "code",
   "execution_count": 55,
   "metadata": {},
   "outputs": [
    {
     "data": {
      "text/plain": [
       "-k11[i]*H_2 - k12[i]*de - k13[i]*H_1 + k21[i]*H_1**2 - 2*k23[i]*H2_1"
      ]
     },
     "execution_count": 55,
     "metadata": {},
     "output_type": "execute_result"
    }
   ],
   "source": [
    "# this gives you the rhs function of that particular species\n",
    "# in this case, its H2_1, molecular H2\n",
    "# f_H2 is an sympy object!\n",
    "f_H2 = primordial.species_total('H2_1')\n",
    "\n",
    "# d f_H2 / d H_2 the jacobian component\n",
    "dfH2_dH2 = f_H2.diff('H2_1')\n",
    "dfH2_dH2"
   ]
  },
  {
   "cell_type": "code",
   "execution_count": 56,
   "metadata": {},
   "outputs": [],
   "source": [
    "rxn_rates = sorted(primordial.reactions.keys())\n",
    "species = sorted(primordial.species_list())"
   ]
  },
  {
   "cell_type": "code",
   "execution_count": 57,
   "metadata": {},
   "outputs": [
    {
     "data": {
      "text/plain": [
       "array([  0.00000000e+00,   0.00000000e+00,   0.00000000e+00, ...,\n",
       "         9.17839771e-09,   9.10254611e-09,   9.02719165e-09])"
      ]
     },
     "execution_count": 57,
     "metadata": {},
     "output_type": "execute_result"
    }
   ],
   "source": [
    "# The following gives the array of k01 rates at the temperatures\n",
    "k01 = primordial.reactions['k01']\n",
    "k01.coeff_fn(primordial)"
   ]
  },
  {
   "cell_type": "code",
   "execution_count": 58,
   "metadata": {},
   "outputs": [],
   "source": [
    "def get_jac_component(species1, species2):\n",
    "    f_species1 = primordial.species_total(species1)\n",
    "    df1_f2 = f_species1.diff(species2)\n",
    "    return df1_f2"
   ]
  },
  {
   "cell_type": "code",
   "execution_count": 59,
   "metadata": {},
   "outputs": [
    {
     "data": {
      "text/plain": [
       "['H2_1',\n",
       " 'H2_2',\n",
       " 'H_1',\n",
       " 'H_2',\n",
       " 'H_m0',\n",
       " 'He_1',\n",
       " 'He_2',\n",
       " 'He_3',\n",
       " 'de',\n",
       " 'ge',\n",
       " 'k01',\n",
       " 'k02',\n",
       " 'k03',\n",
       " 'k04',\n",
       " 'k05',\n",
       " 'k06',\n",
       " 'k07',\n",
       " 'k08',\n",
       " 'k09',\n",
       " 'k10',\n",
       " 'k11',\n",
       " 'k12',\n",
       " 'k13',\n",
       " 'k14',\n",
       " 'k15',\n",
       " 'k16',\n",
       " 'k17',\n",
       " 'k18',\n",
       " 'k19',\n",
       " 'k21',\n",
       " 'k22',\n",
       " 'k23',\n",
       " 'i']"
      ]
     },
     "execution_count": 59,
     "metadata": {},
     "output_type": "execute_result"
    }
   ],
   "source": [
    "# These are the arguments to the functions of the jacobian that can compute the numerical\n",
    "# values of each jacobian component\n",
    "species+rxn_rates+[\"i\"]"
   ]
  },
  {
   "cell_type": "code",
   "execution_count": 60,
   "metadata": {},
   "outputs": [],
   "source": [
    "# rxn_jac is the matrix of functions for the jacobian terms\n",
    "# species_rates_list is a list of species values and list of rxn_rate arrays\n",
    "# temp index is the index for the rxn_rate arrays corresponding to a specific temperature\n",
    "def compute_jacobian(rxn_jac,species_rates_list,temp_index):\n",
    "    jac = np.zeros((len(rxn_jac),len(rxn_jac)),dtype=float)\n",
    "    for j in range(len(jac)):\n",
    "        for k in range(len(jac)):\n",
    "            jac[j][k] = rxn_jac[j][k](*species_rates_list,i=temp_index)\n",
    "    return jac"
   ]
  },
  {
   "cell_type": "code",
   "execution_count": 61,
   "metadata": {},
   "outputs": [],
   "source": [
    "# compute jacobian\n",
    "rxn_rates = sorted(primordial.reactions.keys())\n",
    "species = sorted(primordial.species_list())\n",
    "f_arguments = species+rxn_rates+['i']\n",
    "rxn_jac = np.zeros((len(species),len(species)),dtype=object)\n",
    "for j in range(len(species)):\n",
    "    for k in range(len(species)):\n",
    "        jac_fn = get_jac_component(species[j],species[k])\n",
    "        rxn_jac[j][k] = sympy.lambdify(f_arguments,jac_fn,\"numpy\")\n",
    "\n",
    "species_values = []\n",
    "for s in species:\n",
    "    species_values.append(init_values[s])\n",
    "rate_arrays = []\n",
    "for k in range(len(rxn_rates)):\n",
    "    rate = primordial.reactions[rxn_rates[k]]\n",
    "    rate_arrays.append(rate.coeff_fn(primordial))\n",
    "\n",
    "jac_argument = species_values+rate_arrays"
   ]
  },
  {
   "cell_type": "code",
   "execution_count": 64,
   "metadata": {},
   "outputs": [],
   "source": [
    "#following functions taken from: https://matplotlib.org/gallery/images_contours_and_fields/image_annotated_heatmap.html\n",
    "def heatmap(data, row_labels, col_labels, ax=None,\n",
    "            cbar_kw={}, cbarlabel=\"\", **kwargs):\n",
    "    \"\"\"\n",
    "    Create a heatmap from a numpy array and two lists of labels.\n",
    "\n",
    "    Arguments:\n",
    "        data       : A 2D numpy array of shape (N,M)\n",
    "        row_labels : A list or array of length N with the labels\n",
    "                     for the rows\n",
    "        col_labels : A list or array of length M with the labels\n",
    "                     for the columns\n",
    "    Optional arguments:\n",
    "        ax         : A matplotlib.axes.Axes instance to which the heatmap\n",
    "                     is plotted. If not provided, use current axes or\n",
    "                     create a new one.\n",
    "        cbar_kw    : A dictionary with arguments to\n",
    "                     :meth:`matplotlib.Figure.colorbar`.\n",
    "        cbarlabel  : The label for the colorbar\n",
    "    All other arguments are directly passed on to the imshow call.\n",
    "    \"\"\"\n",
    "\n",
    "    if not ax:\n",
    "        fig, ax = plt.subplots(figsize=(20, 10), dpi=80)\n",
    "\n",
    "    # Plot the heatmap\n",
    "    im = ax.imshow(data, **kwargs)\n",
    "\n",
    "    # Create colorbar\n",
    "    cbar = ax.figure.colorbar(im, ax=ax, **cbar_kw)\n",
    "    cbar.ax.set_ylabel(cbarlabel, rotation=-90, va=\"bottom\")\n",
    "\n",
    "    # We want to show all ticks...\n",
    "    ax.set_xticks(np.arange(data.shape[1]))\n",
    "    ax.set_yticks(np.arange(data.shape[0]))\n",
    "    # ... and label them with the respective list entries.\n",
    "    ax.set_xticklabels(col_labels)\n",
    "    ax.set_yticklabels(row_labels)\n",
    "\n",
    "    # Let the horizontal axes labeling appear on top.\n",
    "    ax.tick_params(top=True, bottom=False,\n",
    "                   labeltop=True, labelbottom=False)\n",
    "\n",
    "    # Rotate the tick labels and set their alignment.\n",
    "    plt.setp(ax.get_xticklabels(), rotation=-30, ha=\"right\",\n",
    "             rotation_mode=\"anchor\")\n",
    "\n",
    "    # Turn spines off and create white grid.\n",
    "    for edge, spine in ax.spines.items():\n",
    "        spine.set_visible(False)\n",
    "\n",
    "    ax.set_xticks(np.arange(data.shape[1]+1)-.5, minor=True)\n",
    "    ax.set_yticks(np.arange(data.shape[0]+1)-.5, minor=True)\n",
    "    ax.grid(which=\"minor\", color=\"w\", linestyle='-', linewidth=3)\n",
    "    ax.tick_params(which=\"minor\", bottom=False, left=False)\n",
    "    \n",
    "    return im, cbar\n",
    "\n",
    "def annotate_heatmap(im, data=None, valfmt=\"{x:.2f}\",\n",
    "                     textcolors=[\"black\", \"white\"],\n",
    "                     threshold=None, **textkw):\n",
    "    \"\"\"\n",
    "    A function to annotate a heatmap.\n",
    "\n",
    "    Arguments:\n",
    "        im         : The AxesImage to be labeled.\n",
    "    Optional arguments:\n",
    "        data       : Data used to annotate. If None, the image's data is used.\n",
    "        valfmt     : The format of the annotations inside the heatmap.\n",
    "                     This should either use the string format method, e.g.\n",
    "                     \"$ {x:.2f}\", or be a :class:`matplotlib.ticker.Formatter`.\n",
    "        textcolors : A list or array of two color specifications. The first is\n",
    "                     used for values below a threshold, the second for those\n",
    "                     above.\n",
    "        threshold  : Value in data units according to which the colors from\n",
    "                     textcolors are applied. If None (the default) uses the\n",
    "                     middle of the colormap as separation.\n",
    "\n",
    "    Further arguments are passed on to the created text labels.\n",
    "    \"\"\"\n",
    "\n",
    "    if not isinstance(data, (list, np.ndarray)):\n",
    "        data = im.get_array()\n",
    "\n",
    "    # Normalize the threshold to the images color range.\n",
    "    if threshold is not None:\n",
    "        threshold = im.norm(threshold)\n",
    "    else:\n",
    "        threshold = im.norm(data.max())/2.\n",
    "\n",
    "    # Set default alignment to center, but allow it to be\n",
    "    # overwritten by textkw.\n",
    "    kw = dict(horizontalalignment=\"center\",\n",
    "              verticalalignment=\"center\")\n",
    "    kw.update(textkw)\n",
    "\n",
    "    # Get the formatter in case a string is supplied\n",
    "    if isinstance(valfmt, str):\n",
    "        valfmt = matplotlib.ticker.StrMethodFormatter(valfmt)\n",
    "\n",
    "    # Loop over the data and create a `Text` for each \"pixel\".\n",
    "    # Change the text's color depending on the data.\n",
    "    texts = []\n",
    "    for i in range(data.shape[0]):\n",
    "        for j in range(data.shape[1]):\n",
    "            kw.update(color=textcolors[im.norm(data[i, j]) > threshold])\n",
    "            text = im.axes.text(j, i, valfmt(data[i, j], None), **kw)\n",
    "            texts.append(text)\n",
    "\n",
    "    return texts"
   ]
  },
  {
   "cell_type": "code",
   "execution_count": 82,
   "metadata": {},
   "outputs": [
    {
     "data": {
      "image/png": "[encoded data removed]",
      "text/plain": [
       "<matplotlib.figure.Figure at 0x11b78b110>"
      ]
     },
     "metadata": {},
     "output_type": "display_data"
    }
   ],
   "source": [
    "curr_jac = compute_jacobian(rxn_jac,jac_argument,100)\n",
    "\n",
    "im, cbar = heatmap(curr_jac,species,species, ax=None,\n",
    "                   cmap=\"gray\", cbarlabel=\"dy/dx\")\n",
    "texts = annotate_heatmap(im,textcolors=[\"white\",\"black\"],size=20)\n",
    "\n",
    "fig.tight_layout()\n",
    "plt.show()"
   ]
  },
  {
   "cell_type": "code",
   "execution_count": null,
   "metadata": {},
   "outputs": [],
   "source": []
  }
 ],
 "metadata": {
  "kernelspec": {
   "display_name": "Python 2",
   "language": "python",
   "name": "python2"
  },
  "language_info": {
   "codemirror_mode": {
    "name": "ipython",
    "version": 2
   },
   "file_extension": ".py",
   "mimetype": "text/x-python",
   "name": "python",
   "nbconvert_exporter": "python",
   "pygments_lexer": "ipython2",
   "version": "2.7.13"
  }
 },
 "nbformat": 4,
 "nbformat_minor": 2
}
